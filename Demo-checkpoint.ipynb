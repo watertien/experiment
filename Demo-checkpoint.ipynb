{
 "cells": [
  {
   "cell_type": "markdown",
   "metadata": {
    "slideshow": {
     "slide_type": "slide"
    }
   },
   "source": [
    "# A Brief Intro to Python and matplotlib \n",
    "\n",
    "### Presenter: Tian\n"
   ]
  },
  {
   "cell_type": "markdown",
   "metadata": {
    "cell_style": "split",
    "slideshow": {
     "slide_type": "slide"
    }
   },
   "source": [
    "## What is Python?\n",
    "\n",
    "![iPPIWF.jpg](https://s1.ax1x.com/2018/09/07/iPPIWF.jpg)"
   ]
  },
  {
   "cell_type": "markdown",
   "metadata": {
    "cell_style": "split",
    "slideshow": {
     "slide_type": "fragment"
    }
   },
   "source": [
    "### Features\n",
    "\n",
    "* Script Language \n",
    "* OOP(Object-oriented Programming)\n",
    "* Powerful third-party packages"
   ]
  },
  {
   "cell_type": "markdown",
   "metadata": {
    "slideshow": {
     "slide_type": "subslide"
    }
   },
   "source": [
    "### How to \"run\" Python? (What do we need?)"
   ]
  },
  {
   "cell_type": "markdown",
   "metadata": {
    "cell_style": "split",
    "slideshow": {
     "slide_type": "fragment"
    }
   },
   "source": [
    "A simple comparison\n",
    "\n",
    "| Language  | Compiler/Interpreter   | Speed   | \n",
    "|-----------|:-----------------:|------------------:|\n",
    "|  C        | gcc, clang...     |      Fast         |\n",
    "| Python    |python, cpython... |    Low(1/100 of C)|\n"
   ]
  },
  {
   "cell_type": "markdown",
   "metadata": {
    "cell_style": "split",
    "slideshow": {
     "slide_type": "fragment"
    }
   },
   "source": [
    "**Just a Interpreter**---A `python` executable programme!"
   ]
  },
  {
   "cell_type": "markdown",
   "metadata": {
    "cell_style": "split",
    "slideshow": {
     "slide_type": "fragment"
    }
   },
   "source": [
    "**But** in order to make full use of many awesome packages, it's highly recommended to\n",
    "install a scientific platform, e.g [`Anaconda`](https://www.anaconda.com/)."
   ]
  },
  {
   "cell_type": "markdown",
   "metadata": {
    "slideshow": {
     "slide_type": "slide"
    }
   },
   "source": [
    "## Install Anaconda3 on your PC"
   ]
  },
  {
   "cell_type": "markdown",
   "metadata": {
    "slideshow": {
     "slide_type": "fragment"
    }
   },
   "source": [
    "1. Download `Anaconda` from [USTC mirror](http://mirrors.ustc.edu.cn/anaconda/)\n",
    "2. Complete the installation.(Add `Anaconda` path to your user's system path variable)\n",
    "3. Open terminal/cmd, type \"python --version\" to check\n",
    "    "
   ]
  },
  {
   "cell_type": "markdown",
   "metadata": {
    "slideshow": {
     "slide_type": "slide"
    }
   },
   "source": [
    "## Basic Syntax of Python"
   ]
  },
  {
   "cell_type": "markdown",
   "metadata": {
    "slideshow": {
     "slide_type": "fragment"
    }
   },
   "source": [
    "\n",
    "* Indentation\n",
    "* Automatically allocate memory\n",
    "* No semicolon"
   ]
  },
  {
   "cell_type": "markdown",
   "metadata": {
    "cell_style": "split",
    "slideshow": {
     "slide_type": "subslide"
    }
   },
   "source": [
    "## Examples\n",
    "\n",
    "### Variable Assignment \n",
    "\n",
    "\n",
    "\n",
    "\n",
    "\n",
    "\n",
    "###  Built-in Data structure\n",
    "\n"
   ]
  },
  {
   "cell_type": "code",
   "execution_count": 2,
   "metadata": {
    "cell_style": "split",
    "slideshow": {
     "slide_type": "-"
    }
   },
   "outputs": [],
   "source": [
    "foo = 1                  # integer\n",
    "bar = 3.1415926          # float\n",
    "toe = \"Hello World!\"     # string\n",
    "\n",
    "\n",
    "t = (2, 3, 4, 5)                                    # tuple, immutable\n",
    "l = [1, 2, \"Hi\", True]                              # list, mutable(stack)\n",
    "d = {\"Amy\": 14, \"Bob\": 20, \"Penny\": 9, \"Wendy\":47}  # dictionary, mutable\n"
   ]
  },
  {
   "cell_type": "markdown",
   "metadata": {
    "cell_style": "split",
    "slideshow": {
     "slide_type": "subslide"
    }
   },
   "source": [
    "### Member Index\n",
    "\n",
    "#### list/tuple: zero-based\n",
    "\n",
    "#### dict: key"
   ]
  },
  {
   "cell_type": "code",
   "execution_count": 3,
   "metadata": {
    "cell_style": "split",
    "collapsed": true,
    "slideshow": {
     "slide_type": "-"
    }
   },
   "outputs": [
    {
     "name": "stdout",
     "output_type": "stream",
     "text": [
      "1\n",
      "[2, 'Hi', 3]\n",
      "14\n"
     ]
    }
   ],
   "source": [
    "print(l[0])\n",
    "l[-1] = 3\n",
    "print(l[1:])\n",
    "\n",
    "print(d[\"Amy\"])\n",
    "d[\"Bob\"] = 23"
   ]
  },
  {
   "cell_type": "markdown",
   "metadata": {
    "slideshow": {
     "slide_type": "subslide"
    }
   },
   "source": [
    "### Compound statements"
   ]
  },
  {
   "cell_type": "code",
   "execution_count": null,
   "metadata": {
    "cell_style": "center",
    "slideshow": {
     "slide_type": "-"
    }
   },
   "outputs": [],
   "source": [
    "### If statement\n",
    "\n",
    "```python\n",
    "if (x == 0):\n",
    "    print(\"x equals zero\")\n",
    "elif (x > 0):\n",
    "    print(\"x is greater than zero\")\n",
    "else:\n",
    "    print(\"x is less than zero\")\n",
    "```\n",
    "\n",
    "### while/for loop \n",
    "\n",
    "```python\n",
    "while (True):\n",
    "    print(\"Bad loop!\")\n",
    "```"
   ]
  },
  {
   "cell_type": "markdown",
   "metadata": {
    "slideshow": {
     "slide_type": "subslide"
    }
   },
   "source": [
    "### Define and Call Functions\n",
    "\n"
   ]
  },
  {
   "cell_type": "code",
   "execution_count": null,
   "metadata": {
    "slideshow": {
     "slide_type": "-"
    }
   },
   "outputs": [],
   "source": [
    "def my_fun(a, b):\n",
    "    c = 2\n",
    "    return a+b+2 \n",
    "    \n",
    "x = 2\n",
    "y = 3\n",
    "print(my_fun(2, 3))\n"
   ]
  },
  {
   "cell_type": "markdown",
   "metadata": {
    "slideshow": {
     "slide_type": "subslide"
    }
   },
   "source": [
    "### Import Modules"
   ]
  },
  {
   "cell_type": "code",
   "execution_count": 7,
   "metadata": {
    "slideshow": {
     "slide_type": "-"
    }
   },
   "outputs": [],
   "source": [
    "%matplotlib inline\n",
    "import matplotlib \n",
    "import matplotlib as mat\n",
    "from matplotlib import pyplot as plt"
   ]
  },
  {
   "cell_type": "markdown",
   "metadata": {
    "slideshow": {
     "slide_type": "subslide"
    }
   },
   "source": [
    "### Class Method\n",
    "\n",
    ">Everything is an instance of a class, and has its own methods."
   ]
  },
  {
   "cell_type": "code",
   "execution_count": 1,
   "metadata": {
    "slideshow": {
     "slide_type": "-"
    }
   },
   "outputs": [
    {
     "name": "stdout",
     "output_type": "stream",
     "text": [
      "Hello!\n"
     ]
    }
   ],
   "source": [
    "type(l)"
   ]
  },
  {
   "cell_type": "markdown",
   "metadata": {
    "slideshow": {
     "slide_type": "slide"
    }
   },
   "source": [
    "## Numpy and ndarray\n",
    "\n",
    "[Numpy](http://www.numpy.org/) is a package to provide support of handling with n-dimentional array for `Python`. And in `Numpy`, there are two fundamental types of \"`variable`\": ndarray and ufunc.  \n",
    "**ndarray** is where we store our data.  \n",
    "**ufunc** is how we manipulate the data to generate or calculate expected result.\n"
   ]
  },
  {
   "cell_type": "code",
   "execution_count": 13,
   "metadata": {
    "collapsed": true,
    "slideshow": {
     "slide_type": "subslide"
    }
   },
   "outputs": [
    {
     "name": "stdout",
     "output_type": "stream",
     "text": [
      "[[ 0.  0.  0.]\n",
      " [ 0.  0.  0.]\n",
      " [ 0.  0.  0.]]\n"
     ]
    }
   ],
   "source": [
    "import numpy as np\n",
    "\n",
    "x = np.array([2, 3, 5, 1, 6])\n",
    "y = np.arange(0, 10, 2)\n",
    "z = np.zeros((3,3))"
   ]
  },
  {
   "cell_type": "markdown",
   "metadata": {
    "slideshow": {
     "slide_type": "subslide"
    }
   },
   "source": [
    "### ndarray\n",
    "\n",
    ">N-dimensional array\n",
    "\n",
    "`ndarray` has lots of simple but poweful methods, which can replace `MATLAB`(to some extent). "
   ]
  },
  {
   "cell_type": "code",
   "execution_count": null,
   "metadata": {
    "slideshow": {
     "slide_type": "-"
    }
   },
   "outputs": [],
   "source": []
  },
  {
   "cell_type": "markdown",
   "metadata": {
    "slideshow": {
     "slide_type": "slide"
    }
   },
   "source": [
    "\n",
    "\n",
    "## Plot with Matplotlib\n",
    "\n",
    "There are some things you should know before plotting..."
   ]
  },
  {
   "cell_type": "markdown",
   "metadata": {
    "cell_style": "split",
    "slideshow": {
     "slide_type": "subslide"
    }
   },
   "source": [
    "[![iPkDJK.md.jpg](https://s1.ax1x.com/2018/09/07/iPkDJK.md.jpg)](https://imgchr.com/i/iPkDJK)"
   ]
  },
  {
   "cell_type": "markdown",
   "metadata": {
    "cell_style": "split",
    "slideshow": {
     "slide_type": "fragment"
    }
   },
   "source": [
    "### **What type of charts do you need?** "
   ]
  },
  {
   "cell_type": "markdown",
   "metadata": {
    "slideshow": {
     "slide_type": "subslide"
    }
   },
   "source": [
    "## Parts of a Figure\n",
    "\n"
   ]
  },
  {
   "cell_type": "markdown",
   "metadata": {
    "cell_style": "split",
    "slideshow": {
     "slide_type": "-"
    }
   },
   "source": [
    "![iPVGz8.jpg](https://s1.ax1x.com/2018/09/07/iPVGz8.jpg)"
   ]
  },
  {
   "cell_type": "markdown",
   "metadata": {
    "cell_style": "split",
    "slideshow": {
     "slide_type": "fragment"
    }
   },
   "source": [
    "### A complete figure should contain a couple of components: marker, line, axis(x, y, z), legend, caption, label, title..."
   ]
  },
  {
   "cell_type": "markdown",
   "metadata": {
    "slideshow": {
     "slide_type": "slide"
    }
   },
   "source": [
    "## Let's get started!"
   ]
  },
  {
   "cell_type": "markdown",
   "metadata": {
    "slideshow": {
     "slide_type": "fragment"
    }
   },
   "source": [
    "1. import some denpendency packages \n",
    "2. Plot a simple 2-D figure for demo\n",
    "3. Set some certain values of figure"
   ]
  },
  {
   "cell_type": "markdown",
   "metadata": {
    "slideshow": {
     "slide_type": "slide"
    }
   },
   "source": [
    "## A Typical Situation in Experiment Data-Processing\n",
    "\n",
    ">I have got my data stored in my computer, so how can I plot it *elegantly*?\n"
   ]
  },
  {
   "cell_type": "markdown",
   "metadata": {
    "slideshow": {
     "slide_type": "fragment"
    }
   },
   "source": [
    "**Filetype matters!**   \n",
    "Personally, I prefer `.csv`(Comma-Separated Values) to save my data. And .xlxs is also practical, which will involve another famous package."
   ]
  },
  {
   "cell_type": "markdown",
   "metadata": {
    "slideshow": {
     "slide_type": "subslide"
    }
   },
   "source": [
    "### Plot a Figure for your Report"
   ]
  },
  {
   "cell_type": "markdown",
   "metadata": {
    "slideshow": {
     "slide_type": "-"
    }
   },
   "source": [
    "1. Read data and assign it to variables\n",
    "2. Choose the **proper** figure type\n",
    "3. Plot the data\n",
    "4. Set and adjust the basic values to make a good figure."
   ]
  },
  {
   "cell_type": "markdown",
   "metadata": {
    "slideshow": {
     "slide_type": "subslide"
    }
   },
   "source": [
    "### Demo"
   ]
  },
  {
   "cell_type": "code",
   "execution_count": null,
   "metadata": {
    "slideshow": {
     "slide_type": "-"
    }
   },
   "outputs": [],
   "source": [
    "\n",
    "\n"
   ]
  },
  {
   "cell_type": "markdown",
   "metadata": {
    "slideshow": {
     "slide_type": "slide"
    }
   },
   "source": [
    "## Fanscinating Features about matplotlib\n"
   ]
  },
  {
   "cell_type": "markdown",
   "metadata": {
    "slideshow": {
     "slide_type": "subslide"
    }
   },
   "source": [
    "### OOP Style Plotting\n",
    "\n",
    "Every component that belongs to a figure is an object. So we can call their corresponding methods to manipulate\n",
    "them and generate some surprising output.\n"
   ]
  },
  {
   "cell_type": "markdown",
   "metadata": {
    "cell_style": "split",
    "slideshow": {
     "slide_type": "-"
    }
   },
   "source": [
    "[![iA2JG8.md.png](https://s1.ax1x.com/2018/09/13/iA2JG8.md.png)](https://imgchr.com/i/iA2JG8)"
   ]
  },
  {
   "cell_type": "markdown",
   "metadata": {
    "cell_style": "split",
    "slideshow": {
     "slide_type": "-"
    }
   },
   "source": [
    "[![iA2txg.md.png](https://s1.ax1x.com/2018/09/13/iA2txg.md.png)](https://imgchr.com/i/iA2txg)"
   ]
  },
  {
   "cell_type": "code",
   "execution_count": null,
   "metadata": {
    "slideshow": {
     "slide_type": "subslide"
    }
   },
   "outputs": [],
   "source": []
  },
  {
   "cell_type": "markdown",
   "metadata": {
    "slideshow": {
     "slide_type": "subslide"
    }
   },
   "source": [
    "###  $\\LaTeX$ Support\n",
    "\n",
    "You can use $\\LaTeX$ commands to help you type math equation or symbol, convenient and beautiful."
   ]
  },
  {
   "cell_type": "code",
   "execution_count": null,
   "metadata": {
    "slideshow": {
     "slide_type": "-"
    }
   },
   "outputs": [],
   "source": []
  },
  {
   "cell_type": "markdown",
   "metadata": {
    "slideshow": {
     "slide_type": "subslide"
    }
   },
   "source": [
    "### Multiple Formats\n",
    "\n",
    "After plotting, you can choose which format you'd like python to *print* your figures, which allows you to easily\n",
    "embed figures to you .docx, .tex, .html and so on.\n",
    "* svg\n",
    "* pdf\n",
    "* png\n",
    "* jpg\n",
    "* ..."
   ]
  },
  {
   "cell_type": "markdown",
   "metadata": {
    "slideshow": {
     "slide_type": "subslide"
    }
   },
   "source": [
    "### Further Reading\n",
    "\n",
    "* [Matplotlib official site](https://matplotlib.org/index.html)\n",
    "* Matplotlib User Guide(pdf document)\n",
    "* [Object-Oriented Plotting](http://www.cnblogs.com/vamei/archive/2013/01/30/2879700.html)(CN)\n"
   ]
  }
 ],
 "metadata": {
  "celltoolbar": "Slideshow",
  "kernelspec": {
   "display_name": "Python 3",
   "language": "python",
   "name": "python3"
  },
  "language_info": {
   "codemirror_mode": {
    "name": "ipython",
    "version": 3
   },
   "file_extension": ".py",
   "mimetype": "text/x-python",
   "name": "python",
   "nbconvert_exporter": "python",
   "pygments_lexer": "ipython3",
   "version": "3.6.1"
  }
 },
 "nbformat": 4,
 "nbformat_minor": 2
}
