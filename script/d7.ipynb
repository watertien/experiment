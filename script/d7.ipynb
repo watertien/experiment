{
 "cells": [
  {
   "cell_type": "markdown",
   "metadata": {},
   "source": [
    "# Welcome to Jupyter!"
   ]
  },
  {
   "cell_type": "markdown",
   "metadata": {},
   "source": [
    "This repo contains an introduction to [Jupyter](https://jupyter.org) and [IPython](https://ipython.org).\n",
    "\n",
    "Outline of some basics:\n",
    "\n",
    "* [Notebook Basics](../examples/Notebook/Notebook%20Basics.ipynb)\n",
    "* [IPython - beyond plain python](../examples/IPython%20Kernel/Beyond%20Plain%20Python.ipynb)\n",
    "* [Markdown Cells](../examples/Notebook/Working%20With%20Markdown%20Cells.ipynb)\n",
    "* [Rich Display System](../examples/IPython%20Kernel/Rich%20Output.ipynb)\n",
    "* [Custom Display logic](../examples/IPython%20Kernel/Custom%20Display%20Logic.ipynb)\n",
    "* [Running a Secure Public Notebook Server](../examples/Notebook/Running%20the%20Notebook%20Server.ipynb#Securing-the-notebook-server)\n",
    "* [How Jupyter works](../examples/Notebook/Multiple%20Languages%2C%20Frontends.ipynb) to run code in different languages."
   ]
  },
  {
   "cell_type": "markdown",
   "metadata": {},
   "source": [
    "You can also get this tutorial and run it on your laptop:\n",
    "\n",
    "    git clone https://github.com/ipython/ipython-in-depth\n",
    "\n",
    "Install IPython and Jupyter:\n",
    "\n",
    "with [conda](https://www.anaconda.com/download):\n",
    "\n",
    "    conda install ipython jupyter\n",
    "\n",
    "with pip:\n",
    "\n",
    "    # first, always upgrade pip!\n",
    "    pip install --upgrade pip\n",
    "    pip install --upgrade ipython jupyter\n",
    "\n",
    "Start the notebook in the tutorial directory:\n",
    "\n",
    "    cd ipython-in-depth\n",
    "    jupyter notebook"
   ]
  },
  {
   "cell_type": "code",
   "execution_count": 10,
   "metadata": {},
   "outputs": [
    {
     "name": "stdout",
     "output_type": "stream",
     "text": [
      "184.2722313147845 [  1.46685467 -22.55427756] 476.7277686852155 449.77292710562733\n",
      "5.654137E-02\n"
     ]
    }
   ],
   "source": [
    "from scipy.optimize import curve_fit\n",
    "import numpy as np\n",
    "e_gamma = 0.661 * 10**3\n",
    "m_0c2 = 1.022 / 2 * 10**3\n",
    "e_c = e_gamma/(1 + m_0c2/(2 * e_gamma))\n",
    "x = np.array([141, 466])\n",
    "y = np.array([e_gamma - e_c, e_gamma]) \n",
    "p = np.polyfit(x, y, 1)\n",
    "p1 = np.poly1d(p)\n",
    "d_c = p1(322)\n",
    "print(e_gamma - e_c, p, e_c, d_c)\n",
    "print(\"{:E}\" .format((e_c-d_c)/e_c))"
   ]
  },
  {
   "cell_type": "code",
   "execution_count": 11,
   "metadata": {},
   "outputs": [
    {
     "name": "stdout",
     "output_type": "stream",
     "text": [
      "137Cs_600V_1644s_1024.txt  apt.txt  environment.yml  Index.ipynb\r\n"
     ]
    }
   ],
   "source": [
    "ls"
   ]
  },
  {
   "cell_type": "code",
   "execution_count": 44,
   "metadata": {},
   "outputs": [
    {
     "name": "stderr",
     "output_type": "stream",
     "text": [
      "/srv/conda/lib/python3.6/site-packages/matplotlib/cbook/__init__.py:424: MatplotlibDeprecationWarning: \n",
      "Passing one of 'on', 'true', 'off', 'false' as a boolean is deprecated; use an actual boolean (True/False) instead.\n",
      "  warn_deprecated(\"2.2\", \"Passing one of 'on', 'true', 'off', 'false' as a \"\n"
     ]
    },
    {
     "data": {
      "text/plain": [
       "Text(675.9999999999997, 227.0, 'Photoelectric Peak')"
      ]
     },
     "execution_count": 44,
     "metadata": {},
     "output_type": "execute_result"
    },
    {
     "data": {
      "image/png": "[encoded data removed]",
      "text/plain": [
       "<Figure size 432x288 with 1 Axes>"
      ]
     },
     "metadata": {
      "needs_background": "light"
     },
     "output_type": "display_data"
    }
   ],
   "source": [
    "import matplotlib.pyplot as plt\n",
    "%matplotlib inline \n",
    "plt.style.use(\"bmh\")\n",
    "z = np.arange(1024)\n",
    "energy = p1(z)\n",
    "data = np.genfromtxt(\"137Cs_600V_1644s_1024.txt\", delimiter='\\n')\n",
    "plt.scatter(energy, data, marker='^', s=6, alpha=0.5)\n",
    "plt.grid(\"on\")\n",
    "plt.title(\"Energy-Intensity Graph\", fontsize=14)\n",
    "plt.xlabel(\"Energy/keV\", fontsize=14)\n",
    "plt.ylabel(\"Relative Intensity\", fontsize=14)\n",
    "plt.xlim(0, max(energy))\n",
    "plt.ylim(0, 260)\n",
    "peak_channel = np.array([141, 466])\n",
    "peak_energy = p1(peak_channel)\n",
    "xy1_cord = (peak_energy[0], data[peak_channel[0]])\n",
    "text1_cord = (xy1_cord[0]+2, xy1_cord[1]+10)\n",
    "xy2_cord = (peak_energy[1], data[peak_channel[1]]-1)\n",
    "text2_cord = (xy2_cord[0]+15, xy2_cord[1]-20)\n",
    "plt.annotate(\"Back-scattered Peak\", xy=xy1_cord, xytext=text1_cord, \n",
    "                arrowprops=dict(arrowstyle=\"->\",connectionstyle=\"arc3\"))\n",
    "plt.annotate(\"Photoelectric Peak\", xy=xy2_cord, xytext=text2_cord, \n",
    "             arrowprops=dict(arrowstyle=\"->\",connectionstyle=\"arc3\"))\n",
    "# plt.savefig(\"137Cs_dpi.png\", dpi=500)"
   ]
  },
  {
   "cell_type": "code",
   "execution_count": 38,
   "metadata": {
    "collapsed": true
   },
   "outputs": [
    {
     "data": {
      "text/plain": [
       "['_classic_test',\n",
       " 'seaborn-talk',\n",
       " 'ggplot',\n",
       " 'classic',\n",
       " 'seaborn-dark',\n",
       " 'seaborn-poster',\n",
       " 'seaborn-ticks',\n",
       " 'seaborn-pastel',\n",
       " 'seaborn-muted',\n",
       " 'fivethirtyeight',\n",
       " 'grayscale',\n",
       " 'seaborn-notebook',\n",
       " 'seaborn-whitegrid',\n",
       " 'seaborn',\n",
       " 'seaborn-colorblind',\n",
       " 'seaborn-deep',\n",
       " 'dark_background',\n",
       " 'seaborn-darkgrid',\n",
       " 'tableau-colorblind10',\n",
       " 'Solarize_Light2',\n",
       " 'fast',\n",
       " 'seaborn-white',\n",
       " 'bmh',\n",
       " 'seaborn-paper',\n",
       " 'seaborn-dark-palette',\n",
       " 'seaborn-bright']"
      ]
     },
     "execution_count": 38,
     "metadata": {},
     "output_type": "execute_result"
    }
   ],
   "source": [
    "plt.style.available"
   ]
  },
  {
   "cell_type": "code",
   "execution_count": 45,
   "metadata": {},
   "outputs": [
    {
     "name": "stdout",
     "output_type": "stream",
     "text": [
      "[1147.55569499 1297.61492803]\n"
     ]
    }
   ],
   "source": [
    "co_channel = np.array([797.70, 900])\n",
    "co_energy = p1(co_channel)\n",
    "print(co_energy)"
   ]
  },
  {
   "cell_type": "code",
   "execution_count": null,
   "metadata": {},
   "outputs": [],
   "source": [
    ""
   ]
  }
 ],
 "metadata": {
  "kernelspec": {
   "display_name": "Python 3",
   "language": "python",
   "name": "python3"
  },
  "language_info": {
   "codemirror_mode": {
    "name": "ipython",
    "version": 3.0
   },
   "file_extension": ".py",
   "mimetype": "text/x-python",
   "name": "python",
   "nbconvert_exporter": "python",
   "pygments_lexer": "ipython3",
   "version": "3.6.6"
  }
 },
 "nbformat": 4,
 "nbformat_minor": 0
}